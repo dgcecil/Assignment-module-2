{
 "cells": [
  {
   "cell_type": "markdown",
   "id": "320a1e18-9082-4d8e-88b7-bdb5a033157c",
   "metadata": {},
   "source": [
    "# My Jupyter Notebook on IBM Watson Studio"
   ]
  },
  {
   "cell_type": "markdown",
   "id": "7a0d6b19-526e-49e1-bf8a-4b409a69092a",
   "metadata": {},
   "source": [
    "**David CECIL** <br>\n",
    "Currently working in an pension foundation, looking to work in Data Mining or IT-Department of the same company"
   ]
  },
  {
   "cell_type": "markdown",
   "id": "6c766680-f4a9-4252-b964-413761eb7088",
   "metadata": {},
   "source": [
    "*I am interested to work in Data Science because it combines IT-Skills and gaining insight from data. I like to find the stories data can tell and the knowledge that can be gained from it.*"
   ]
  },
  {
   "cell_type": "code",
   "execution_count": 5,
   "id": "c472f9fb-a4ec-483a-993b-e028442afbc4",
   "metadata": {},
   "outputs": [
    {
     "name": "stdout",
     "output_type": "stream",
     "text": [
      "Hello World\n"
     ]
    }
   ],
   "source": [
    "print('Hello World')"
   ]
  },
  {
   "cell_type": "markdown",
   "id": "1f4b38f7-bd34-4b87-af58-5c152796b5be",
   "metadata": {},
   "source": [
    "**Mountain passes I biked so far** <br>\n",
    "\n",
    "---\n",
    "\n",
    "\n",
    "|Name|Elevation in meters|Comment|\n",
    "|-|-|-|\n",
    "|[San Bernardino](https://en.wikipedia.org/wiki/San_Bernardino_Pass)|2065|Very proud of it, surprisingly not too difficult|\n",
    "|[Grosse Scheidegg](https://en.wikipedia.org/wiki/Grosse_Scheidegg)|1979|My first major mountain pass, very bike friendly|\n",
    "|[Etzel](https://en.wikipedia.org/wiki/Etzel_Pass)|950|A short but strenuous one <s>bloody hell, that was hard<s/>|\n",
    "|[Col des Rangiers](https://en.wikipedia.org/wiki/Col_des_Rangiers)|856|My first pass in the Jura, beautiful village of Alle|\n"
   ]
  }
 ],
 "metadata": {
  "kernelspec": {
   "display_name": "Python",
   "language": "python",
   "name": "conda-env-python-py"
  },
  "language_info": {
   "codemirror_mode": {
    "name": "ipython",
    "version": 3
   },
   "file_extension": ".py",
   "mimetype": "text/x-python",
   "name": "python",
   "nbconvert_exporter": "python",
   "pygments_lexer": "ipython3",
   "version": "3.7.12"
  }
 },
 "nbformat": 4,
 "nbformat_minor": 5
}
